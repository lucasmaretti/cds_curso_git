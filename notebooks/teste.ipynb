{
 "cells": [
  {
   "cell_type": "code",
   "execution_count": 4,
   "metadata": {},
   "outputs": [
    {
     "name": "stdout",
     "output_type": "stream",
     "text": [
      "main - linha 1\n"
     ]
    }
   ],
   "source": [
    "print(\"main - linha 1\")"
   ]
  },
  {
   "cell_type": "code",
   "execution_count": 6,
   "metadata": {},
   "outputs": [
    {
     "name": "stdout",
     "output_type": "stream",
     "text": [
      "main - linha 3\n"
     ]
    }
   ],
   "source": [
    "print(\"main - linha 3\")"
   ]
  },
  {
   "cell_type": "code",
   "execution_count": 1,
   "metadata": {},
   "outputs": [
    {
     "name": "stdout",
     "output_type": "stream",
     "text": [
      "dev - célula 1\n"
     ]
    }
   ],
   "source": [
    "print(\"dev - célula 1\")"
   ]
  },
  {
   "cell_type": "code",
   "execution_count": 3,
   "metadata": {},
   "outputs": [
    {
     "name": "stdout",
     "output_type": "stream",
     "text": [
      "dev - célula 3\n"
     ]
    }
   ],
   "source": [
    "print(\"dev - célula 3\")"
   ]
  }
 ],
 "metadata": {
  "kernelspec": {
   "display_name": "curso_git",
   "language": "python",
   "name": "python3"
  },
  "nbdime-conflicts": {
   "local_diff": [
    {
     "key": "language_info",
     "op": "add",
     "value": {
      "name": "python"
     }
    }
   ],
   "remote_diff": [
    {
     "key": "language_info",
     "op": "add",
     "value": {
      "codemirror_mode": {
       "name": "ipython",
       "version": 3
      },
      "file_extension": ".py",
      "mimetype": "text/x-python",
      "name": "python",
      "nbconvert_exporter": "python",
      "pygments_lexer": "ipython3",
      "version": "3.9.13"
     }
    }
   ]
  },
  "vscode": {
   "interpreter": {
    "hash": "6bdb23fb3832ce2640627af8b5c9847abc9e81b7b48802ce7429cf27a506d0bd"
   }
  }
 },
 "nbformat": 4,
 "nbformat_minor": 2
}
